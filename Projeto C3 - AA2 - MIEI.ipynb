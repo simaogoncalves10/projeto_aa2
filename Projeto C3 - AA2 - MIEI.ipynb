{
 "cells": [
  {
   "cell_type": "markdown",
   "id": "51045a40",
   "metadata": {},
   "source": [
    "## **Identificação de documentos similares/relevantes para cancro do estômago**"
   ]
  },
  {
   "cell_type": "markdown",
   "id": "217fd63c",
   "metadata": {},
   "source": [
    " **Projeto C.3 - Aprendizagem Automática 2**"
   ]
  },
  {
   "cell_type": "markdown",
   "id": "743b8ae5",
   "metadata": {},
   "source": [
    "**Orientadores : Rúben Rodrigues e Nuno Alves**"
   ]
  },
  {
   "cell_type": "markdown",
   "id": "fbbef220",
   "metadata": {},
   "source": [
    " "
   ]
  },
  {
   "cell_type": "markdown",
   "id": "e123309b",
   "metadata": {},
   "source": [
    " "
   ]
  },
  {
   "cell_type": "markdown",
   "id": "aa9c005d",
   "metadata": {},
   "source": [
    " ## **Contextualização**"
   ]
  },
  {
   "cell_type": "markdown",
   "id": "03ee6143",
   "metadata": {},
   "source": [
    "Repositórios como o PUBMED contêm mais de 30 milhões de documentos que estão indexados a termos chave.\n",
    "Estes repositórios possibilitam a identificação de documentos relevantes sobre um determinado termo."
   ]
  },
  {
   "cell_type": "markdown",
   "id": "4a942ed3",
   "metadata": {},
   "source": [
    " **Problema**"
   ]
  },
  {
   "cell_type": "markdown",
   "id": "2411d8ed",
   "metadata": {},
   "source": [
    "Existem documentos que são relevantes a um determinado tópico, mas que não estão devidamente identificados."
   ]
  },
  {
   "cell_type": "markdown",
   "id": "ae76f11b",
   "metadata": {},
   "source": [
    " **Solução**"
   ]
  },
  {
   "cell_type": "markdown",
   "id": "b5a30191",
   "metadata": {},
   "source": [
    "Existem abordagens baseadas em aprendizagem máquina não supervisionadas como a Latent Dirichlet Allocation (LDA) em que é possível aplicar o cálculo da distância Jensen-Shannon para identificar documentos similares a um determinado tópico. Exemplos de pesquisas que podem beneficiar de um sistema orientado a similaridade de documentos incluem a pesquisa sobre uma determinada doença como o cancro do estômago e um tratamento que não foi indexado pelo repositório."
   ]
  },
  {
   "cell_type": "markdown",
   "id": "b2a8aa5a",
   "metadata": {},
   "source": [
    " **Objetivo**"
   ]
  },
  {
   "cell_type": "markdown",
   "id": "9e86313d",
   "metadata": {},
   "source": [
    "Implementar uma pipeline em python que calcule a similaridade de documentos recorrendo ao LDA e à fórmula de Jensen-Shannon e integrem a pipeline desenvolvida na framework do grupo BioSystems (BioTMpy)."
   ]
  },
  {
   "cell_type": "markdown",
   "id": "d91c244a",
   "metadata": {},
   "source": [
    " "
   ]
  },
  {
   "cell_type": "markdown",
   "id": "53d7d7ae",
   "metadata": {},
   "source": [
    " "
   ]
  },
  {
   "cell_type": "markdown",
   "id": "c5107763",
   "metadata": {},
   "source": [
    " ## **Criação do dataset**"
   ]
  },
  {
   "cell_type": "markdown",
   "id": "ef69bc85",
   "metadata": {},
   "source": [
    "Os dados fornecidos para este trabalho estarão no formato JSON e serão disponibilizados a partir da plataforma de conhecimento sobre cancro gástrico desenvolvido no grupo BioSystems."
   ]
  },
  {
   "cell_type": "markdown",
   "id": "a69ca7cb",
   "metadata": {},
   "source": [
    "**Aceder à API e analisar a estrutura dos dados**"
   ]
  },
  {
   "cell_type": "markdown",
   "id": "private-springer",
   "metadata": {},
   "source": [
    "Iniciamos o projeto por aceder á API (https://gcplatform.bio.di.uminho.pt/api/pub/swagger-ui/index.html?configUrl=/api/pub/v3/api-docs/swagger-config#/pageable-publications-controller/findPubmedPubsByQuery) e analisar os dados relativos ao cancro do estômago.\n",
    "\n",
    "Após uma análise verificamos que a estrutura dos objetos era a seguinte:\n",
    "\n",
    "{\n",
    "    id (string)\n",
    "    idGenerator (string)\n",
    "    source (string)\n",
    "    createdDate (string date-time)\n",
    "    lastModifiedDate (string date-time)\n",
    "    title (string)\n",
    "    summary (string)\n",
    "    content (string)\n",
    "    xdbRefs (uniqueItems: true string)\n",
    "    meshTerms (uniqueItems: true string)\n",
    "    keywords (uniqueItems: true string)\n",
    "    \n",
    "}\n",
    "\n",
    "Também verificamos que da estrutura das páginas JSON da API apenas nos interessava o array \"content\", que continha os objetos com a estrutura em cima representada e com a informação que necessitavamos.\n",
    "\n",
    "\n",
    "\n",
    "\n",
    "\n",
    "Atenção, a execução deste notebook não é rápida por isso caso pretendam aceder aos ficheiros resultantes da mesma podem encontrá-los nos respetivos links.\n",
    "\n",
    "Todos os documentos em baixo descritos : https://we.tl/t-LV67ORGzZm \n",
    "\n",
    "Pasta pages com os ficheiros json de cada página : https://we.tl/t-wYMoIfvL3p\n",
    "\n",
    "Ficheiro csv com o dataset : https://we.tl/t-vR3WrUjWnI\n",
    "\n",
    "Ficheiro json com todos os objetos da API : https://we.tl/t-Av1CzQBMQh\n",
    "\n"
   ]
  },
  {
   "cell_type": "markdown",
   "id": "intermediate-throat",
   "metadata": {},
   "source": [
    " "
   ]
  },
  {
   "cell_type": "markdown",
   "id": "c3627f93",
   "metadata": {},
   "source": [
    "**Recolher informação da API para um ficheiro json**"
   ]
  },
  {
   "cell_type": "markdown",
   "id": "focal-expense",
   "metadata": {},
   "source": [
    "De seguida, foi necessário recolher a informação importante da API para um ficheiro JSON.\n",
    "Para tal, utilizamos três bibliotecas. A biblioteca **urllib.parse**, para manipularmos o url, a biblioteca **requests**, que é uma biblioteca HTTP necessária para recebermos a informação da API, e, a biblioteca **json**, para manipular os ficheiros json."
   ]
  },
  {
   "cell_type": "code",
   "execution_count": null,
   "id": "afraid-belarus",
   "metadata": {},
   "outputs": [],
   "source": [
    "import urllib.parse, requests, json"
   ]
  },
  {
   "cell_type": "markdown",
   "id": "armed-rolling",
   "metadata": {},
   "source": [
    " "
   ]
  },
  {
   "cell_type": "markdown",
   "id": "governmental-protocol",
   "metadata": {},
   "source": [
    "Posto isto, criamos um loop que efetuas pedidos sobre as 145 páginas existentes na API sobre o cancro do estômago e que coloca, a informação do content de cada página, numa pasta."
   ]
  },
  {
   "cell_type": "code",
   "execution_count": null,
   "id": "gorgeous-sword",
   "metadata": {},
   "outputs": [],
   "source": [
    "#Rescolher a informação da API pub\n",
    "for n_page in range(146):\n",
    "    main_api = 'https://gcplatform.bio.di.uminho.pt/api/pub/page/find/pubmedindexed/gastric%20cancer?page={}&size=1000&sort=string'.format(n_page)\n",
    "    address = 'lhr'\n",
    "    url = main_api + urllib.parse.urlencode({'address': address})\n",
    "    json_data = requests.get(url).json()\n",
    "    print(json_data[\"content\"])\n",
    "\n",
    "    #Mudar o nome do ficheiro\n",
    "    filename = \"C:\\\\Users\\\\Simon\\\\OneDrive\\\\Documentos\\\\GitHub\\\\projeto_aa2\\\\pages\\\\page_{}_gastric_cancer.json\".format(n_page)\n",
    "  \n",
    "\n",
    "    #Escrever a informação num ficheiro json\n",
    "    with open(filename, 'a') as json_file:\n",
    "        json.dump(json_data[\"content\"], json_file, indent=4, sort_keys=True) #Formata o json file, o indent e sort_keys\n",
    "        "
   ]
  },
  {
   "cell_type": "markdown",
   "id": "known-southwest",
   "metadata": {},
   "source": [
    "  "
   ]
  },
  {
   "cell_type": "markdown",
   "id": "faced-federation",
   "metadata": {},
   "source": [
    "Por fim, foi necessário juntar todas as páginas numa única lista de objetos, ou seja, num ficheiro json com todos os objetos."
   ]
  },
  {
   "cell_type": "code",
   "execution_count": null,
   "id": "attended-helicopter",
   "metadata": {},
   "outputs": [],
   "source": [
    "import json\n",
    "from os import listdir\n",
    "from os.path import isfile, join\n",
    "\n",
    "\n",
    "lista=[]  \n",
    "\n",
    "\n",
    "files = [f for f in listdir(\"pages\") if isfile(join(\"pages\", f))]\n",
    "\n",
    "for file in files:\n",
    "    f = open('pages/'+file)\n",
    "    data = json.load(f) \n",
    "    for i in data: lista.append(i)\n",
    "    f.close()\n",
    "\n",
    "print(lista)\n",
    "\n",
    "with open('info_gastric_cancer.json', 'w') as json_file:\n",
    "    json.dump(lista, json_file,indent=1)"
   ]
  },
  {
   "cell_type": "markdown",
   "id": "possible-memorial",
   "metadata": {},
   "source": [
    " "
   ]
  },
  {
   "cell_type": "markdown",
   "id": "97bc5fbb",
   "metadata": {},
   "source": [
    "**Converter o ficheiro json em objetos python**"
   ]
  },
  {
   "cell_type": "markdown",
   "id": "continuous-vietnam",
   "metadata": {},
   "source": [
    "Inicialmente, criamos uma classe Info com quatro métodos, sendo dois os mais importantes. O primeiro método, o init, é executado quando criamos uma instância de um objeto. O segundo método, o to dict, é utilizado para converter os objetos que guardamos na lista num dicionário."
   ]
  },
  {
   "cell_type": "code",
   "execution_count": null,
   "id": "legislative-sewing",
   "metadata": {},
   "outputs": [],
   "source": [
    "import json\n",
    "import pandas as pd\n",
    "\n",
    "\n",
    "class Info:\n",
    "    def __init__(self, id=None, idGenerator=None, source=None, createdDate=None, lastModifiedDate=None, title=None, summary=None, content=None, xdbRefs=None, meshTerms=None, keywords=None):\n",
    "        self.id = id\n",
    "        self.idGenerator = idGenerator\n",
    "        self.source = source\n",
    "        self.createdDate = createdDate\n",
    "        self.lastModifiedDate = lastModifiedDate\n",
    "        self.title = title\n",
    "        self.summary = summary\n",
    "        self.content = content\n",
    "        self.xdbRefs = xdbRefs\n",
    "        self.meshTerms = meshTerms\n",
    "        self.keywords = keywords\n",
    "\n",
    "\n",
    "    @classmethod\n",
    "    def from_json(cls, json_string):\n",
    "        json_dict = json.loads(json_string)\n",
    "        return cls(**json_dict)\n",
    "\n",
    "\n",
    "    def __repr__(self):\n",
    "        #return str(self)\n",
    "        return f'{self.id}'\n",
    "        \n",
    "    def to_dict(self):\n",
    "        return {\n",
    "            'id': self.id,\n",
    "            'title': self.title,\n",
    "            'summary':self.summary,\n",
    "        }"
   ]
  },
  {
   "cell_type": "markdown",
   "id": "brave-camping",
   "metadata": {},
   "source": [
    " "
   ]
  },
  {
   "cell_type": "markdown",
   "id": "selective-today",
   "metadata": {},
   "source": [
    "Posto isto, foi necessário ler o ficheiro json com todos os objetos e colocar esses objetos numa lista."
   ]
  },
  {
   "cell_type": "code",
   "execution_count": null,
   "id": "responsible-manor",
   "metadata": {},
   "outputs": [],
   "source": [
    "info_list = []\n",
    "with open('info_gastric_cancer.json', 'r') as json_file:\n",
    "    info_data = json.loads(json_file.read())\n",
    "    for i in info_data: \n",
    "        info_list.append(Info(**i))"
   ]
  },
  {
   "cell_type": "markdown",
   "id": "diagnostic-finder",
   "metadata": {},
   "source": [
    " "
   ]
  },
  {
   "cell_type": "markdown",
   "id": "db30155e",
   "metadata": {},
   "source": [
    "**Converter os objetos python para pandas**"
   ]
  },
  {
   "cell_type": "markdown",
   "id": "perceived-venue",
   "metadata": {},
   "source": [
    "Tendo já uma lista com os objetos é necessário colocar estes objetos num dataframe, recorrendo à biblioteca pandas."
   ]
  },
  {
   "cell_type": "code",
   "execution_count": null,
   "id": "downtown-spell",
   "metadata": {},
   "outputs": [],
   "source": [
    "df = pd.DataFrame.from_records([a.to_dict() for a in info_list])\n",
    "df.index = df[\"id\"]\n",
    "del df[\"id\"]"
   ]
  },
  {
   "cell_type": "markdown",
   "id": "right-queens",
   "metadata": {},
   "source": [
    " "
   ]
  },
  {
   "cell_type": "markdown",
   "id": "12a9252e",
   "metadata": {},
   "source": [
    "**Exportar para csv**"
   ]
  },
  {
   "cell_type": "markdown",
   "id": "decreased-belief",
   "metadata": {},
   "source": [
    "Por fim, foi exportado o dataframe para um ficheiro csv."
   ]
  },
  {
   "cell_type": "code",
   "execution_count": null,
   "id": "2f684f0b",
   "metadata": {},
   "outputs": [],
   "source": [
    "df.to_csv('dataset_gastric_cancer.csv', sep=\",\")"
   ]
  }
 ],
 "metadata": {
  "kernelspec": {
   "display_name": "Python 3",
   "language": "python",
   "name": "python3"
  },
  "language_info": {
   "codemirror_mode": {
    "name": "ipython",
    "version": 3
   },
   "file_extension": ".py",
   "mimetype": "text/x-python",
   "name": "python",
   "nbconvert_exporter": "python",
   "pygments_lexer": "ipython3",
   "version": "3.7.10"
  }
 },
 "nbformat": 4,
 "nbformat_minor": 5
}