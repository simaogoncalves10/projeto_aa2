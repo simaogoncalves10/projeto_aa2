{
 "metadata": {
  "language_info": {
   "codemirror_mode": {
    "name": "ipython",
    "version": 3
   },
   "file_extension": ".py",
   "mimetype": "text/x-python",
   "name": "python",
   "nbconvert_exporter": "python",
   "pygments_lexer": "ipython3",
   "version": "3.8.6"
  },
  "orig_nbformat": 2,
  "kernelspec": {
   "name": "python386jvsc74a57bd0d1bf8b0d71e2aa9c2cad3c0c4e42b040e81b49fe030ef6be7f4c063ee3654c78",
   "display_name": "Python 3.8.6 64-bit"
  },
  "metadata": {
   "interpreter": {
    "hash": "d1bf8b0d71e2aa9c2cad3c0c4e42b040e81b49fe030ef6be7f4c063ee3654c78"
   }
  }
 },
 "nbformat": 4,
 "nbformat_minor": 2,
 "cells": [
  {
   "source": [
    "Agora vamos vários modelos de lda que irão permitir agrupar os documentos."
   ],
   "cell_type": "markdown",
   "metadata": {}
  },
  {
   "cell_type": "code",
   "execution_count": 2,
   "metadata": {},
   "outputs": [],
   "source": [
    "import pandas as pd\n",
    "import numpy as np \n",
    "from sklearn.feature_extraction.text import CountVectorizer\n",
    "from sklearn.decomposition import LatentDirichletAllocation\n",
    "import scispacy\n",
    "import spacy\n",
    "import en_core_sci_lg\n",
    "import joblib\n",
    "import os"
   ]
  },
  {
   "source": [
    "Em primeiro lugar carregamos um modelo de nlp treinado para documentos de biomedicina. Assim poderemos remover as stop words e convert as palavras na sua forma mais simples usando lemmatization"
   ],
   "cell_type": "markdown",
   "metadata": {}
  },
  {
   "cell_type": "code",
   "execution_count": null,
   "metadata": {},
   "outputs": [],
   "source": [
    "# medium model\n",
    "nlp=en_core_sci_lg.load(disable=[\"tagger\", \"parser\", \"ner\"])\n",
    "nlp.max_length = 3000000\n",
    "\n",
    "def spacy_tokenizer(sentence):\n",
    "    #return word_lemma of non necessary words\n",
    "    return [word.lemma_ for word in nlp(sentence) if not (word.like_num or word.is_stop or word.is_punct or word.is_space or len(word)==1)]"
   ]
  },
  {
   "source": [
    "Como as palavras que aparecem com grande ou pouco frequência no dataset podem ter influencia no desempenho do modelo, criamos a função create_customize_words() que irá definir se adicionamos as palavras muito frequentes e pouco frequentes às stop_words."
   ],
   "cell_type": "markdown",
   "metadata": {}
  },
  {
   "cell_type": "code",
   "execution_count": 6,
   "metadata": {},
   "outputs": [],
   "source": [
    "def create_customize_words():\n",
    "    #read words and frequency\n",
    "    words=pd.read_csv('data/word_count.csv')\n",
    "\n",
    "    customize_stop_words=[]\n",
    "    for index, row in words.iterrows():\n",
    "        if(row['Frequency']<100 or row['Frequency']>5000): customize_stop_words.append(row['Word'])\n",
    "\n",
    "    return customize_stop_words"
   ]
  },
  {
   "source": [
    "Também definimos uma função que irá permitir perceber o funcionamento do LDA treinado. A função print_top_words() vai apresentar na consola os tópicos textuais mais importantes para cada um dos componentes, ou seja, sub-doenças"
   ],
   "cell_type": "markdown",
   "metadata": {}
  },
  {
   "cell_type": "code",
   "execution_count": 4,
   "metadata": {},
   "outputs": [],
   "source": [
    "def print_top_words(model, vectorizer, n_top_words):\n",
    "    feature_names = vectorizer.get_feature_names()\n",
    "    for topic_idx, topic in enumerate(model.components_):\n",
    "        message = \"\\nTopic #%d: \" % topic_idx\n",
    "        message += \" \".join([feature_names[i]for i in topic.argsort()[:-n_top_words - 1:-1]])\n",
    "        print(message)\n",
    "    print()"
   ]
  },
  {
   "source": [
    "Agora, de forma a criarmos e treinarmos o modelo, implementamos a função train_lda() que nos permite definir o treino e as suas carateristicas.\n",
    "Tais como o dataset a usar e se vamos eliminar ou não as palavras mais frequentes\n",
    "\n",
    "Fora estas pequenas alterações, o que a função faz em geral é:\n",
    "\n",
    "1-Definir as stop_words\n",
    "\n",
    "2-Vetorizar o texto\n",
    "\n",
    "3-Inicializar o LDA com 32 componentes\n",
    "\n",
    "4-Treinar o LDA com o texto vetorizado\n",
    "\n",
    "5-Calcular as distancias de cada elemento do dataset a cada tópico\n",
    "\n",
    "6-Executar a função print_top_words()\n",
    "\n",
    "7-Guardas os objetos resultados para poderem ser usados mais tarde"
   ],
   "cell_type": "markdown",
   "metadata": {}
  },
  {
   "cell_type": "code",
   "execution_count": 7,
   "metadata": {},
   "outputs": [],
   "source": [
    "def train_lda(df,folder_path,delete_by_frequency):\n",
    "    if(not os.path.isdir(folder_path)):\n",
    "        os.mkdir(folder_path)\n",
    "\n",
    "    customize_stop_words=[]\n",
    "    #New stop words list \n",
    "    if(delete_by_frequency): customize_stop_words = create_customize_words()\n",
    "\n",
    "    # Mark them as stop words\n",
    "    for w in customize_stop_words:\n",
    "        if(not isinstance(w, float)): nlp.vocab[w].is_stop = True\n",
    "\n",
    "    #Convert a collection of text documents to a matrix of token counts\n",
    "    vectorizer = CountVectorizer(tokenizer = spacy_tokenizer, min_df=2)\n",
    "\n",
    "    #Learn the vocabulary dictionary and return document-term matrix.\n",
    "    #The astype(‘U’) is telling numpy to convert the data to Unicode (essentially a string in python 3)\n",
    "    data_vectorized = vectorizer.fit_transform(df['summary'].values.astype('U'))\n",
    "\n",
    "    lda = LatentDirichletAllocation(n_components=32, random_state=0)\n",
    "    lda.fit(data_vectorized)\n",
    "\n",
    "    #get topic distances\n",
    "    doc_topic_dist = pd.DataFrame(lda.transform(data_vectorized))\n",
    "\n",
    "    print_top_words(lda, vectorizer, n_top_words=25)\n",
    "\n",
    "    #joblib.dump Persist an arbitrary Python object into one file.\n",
    "    joblib.dump(vectorizer, folder_path+'/vectorizer.csv')\n",
    "    joblib.dump(data_vectorized,folder_path+'/data_vectorized.csv')\n",
    "    joblib.dump(lda, folder_path+'/lda.csv')\n",
    "    doc_topic_dist.to_csv(folder_path+'/doc_topic_dist.csv', index=False)"
   ]
  },
  {
   "source": [
    "## Modelo 1 \n",
    "\n",
    "Para este modelo usamos os dataset dataset_gastric_cancer.csv sem nenhuma alteração ao dataset inicial de modo a obtermos um modelo de base"
   ],
   "cell_type": "markdown",
   "metadata": {}
  },
  {
   "cell_type": "code",
   "execution_count": 3,
   "metadata": {},
   "outputs": [],
   "source": [
    "df = pd.read_csv('data/dataset_gastric_cancer.csv', sep='#')\n",
    "train_lda(df,'baseline',False)"
   ]
  },
  {
   "source": [
    "## Modelo 2\n",
    "\n",
    "Para este modelo usamos os dataset dataset_gastric_cancer.csv adicionando as palavras muito e pouco frequentes às stop_words"
   ],
   "cell_type": "markdown",
   "metadata": {}
  },
  {
   "cell_type": "code",
   "execution_count": null,
   "metadata": {},
   "outputs": [],
   "source": [
    "train_lda(df,'not_baseline',True)"
   ]
  },
  {
   "source": [
    "## Modelo 3\n",
    "Para este modelo usamos os dataset dataset_reduced.csv. Com este dataset iremos treinar o modelo apenas com as primeiras 100 palavras de cada publicação"
   ],
   "cell_type": "markdown",
   "metadata": {}
  },
  {
   "cell_type": "code",
   "execution_count": null,
   "metadata": {},
   "outputs": [],
   "source": [
    "df = pd.read_csv('data/dataset_reduced.csv', sep='#')\n",
    "train_lda(df,'reduced',False)"
   ]
  }
 ]
}