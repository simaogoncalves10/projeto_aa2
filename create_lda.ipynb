{
 "metadata": {
  "language_info": {
   "codemirror_mode": {
    "name": "ipython",
    "version": 3
   },
   "file_extension": ".py",
   "mimetype": "text/x-python",
   "name": "python",
   "nbconvert_exporter": "python",
   "pygments_lexer": "ipython3",
   "version": "3.8.6"
  },
  "orig_nbformat": 2,
  "kernelspec": {
   "name": "python386jvsc74a57bd0d1bf8b0d71e2aa9c2cad3c0c4e42b040e81b49fe030ef6be7f4c063ee3654c78",
   "display_name": "Python 3.8.6 64-bit"
  },
  "metadata": {
   "interpreter": {
    "hash": "d1bf8b0d71e2aa9c2cad3c0c4e42b040e81b49fe030ef6be7f4c063ee3654c78"
   }
  }
 },
 "nbformat": 4,
 "nbformat_minor": 2,
 "cells": [
  {
   "source": [
    "Agora vamos criar dois modelos de lda que irão permitir agrupar os documentos."
   ],
   "cell_type": "markdown",
   "metadata": {}
  },
  {
   "cell_type": "code",
   "execution_count": null,
   "metadata": {},
   "outputs": [],
   "source": [
    "import pandas as pd\n",
    "import numpy as np \n",
    "from sklearn.feature_extraction.text import CountVectorizer\n",
    "from sklearn.decomposition import LatentDirichletAllocation\n",
    "import scispacy\n",
    "import spacy\n",
    "import en_core_sci_lg\n",
    "import joblib\n",
    "import os"
   ]
  },
  {
   "cell_type": "code",
   "execution_count": null,
   "metadata": {},
   "outputs": [],
   "source": [
    "df = pd.read_csv('dataset_gastric_cancer.csv', sep='#')"
   ]
  },
  {
   "cell_type": "code",
   "execution_count": null,
   "metadata": {},
   "outputs": [],
   "source": [
    "def print_top_words(model, vectorizer, n_top_words):\n",
    "    feature_names = vectorizer.get_feature_names()\n",
    "    for topic_idx, topic in enumerate(model.components_):\n",
    "        message = \"\\nTopic #%d: \" % topic_idx\n",
    "        message += \" \".join([feature_names[i]for i in topic.argsort()[:-n_top_words - 1:-1]])\n",
    "        print(message)\n",
    "    print()\n",
    "    \n",
    "# medium model\n",
    "nlp=en_core_sci_lg.load(disable=[\"tagger\", \"parser\", \"ner\"])\n",
    "nlp.max_length = 3000000\n",
    "\n",
    "def spacy_tokenizer(sentence):\n",
    "    #return word_lemma of non necessary words\n",
    "    return [word.lemma_ for word in nlp(sentence) if not (word.like_num or word.is_stop or word.is_punct or word.is_space or len(word)==1)]"
   ]
  },
  {
   "cell_type": "code",
   "execution_count": null,
   "metadata": {},
   "outputs": [],
   "source": [
    "def create_customize_words(delete_by_frequency=False):\n",
    "    \n",
    "    #New stop words list \n",
    "    customize_stop_words = [\n",
    "        'doi', 'preprint', 'copyright', 'org', 'https', 'et', 'al', 'author', 'figure', 'table',\n",
    "        'rights', 'reserved', 'permission', 'use', 'used', 'using', 'biorxiv', 'medrxiv', 'license', 'fig', 'fig.', 'al.', 'Elsevier', 'PMC',         'CZI','-PRON-', 'usually',\n",
    "        r'\\usepackage{amsbsy', r'\\usepackage{amsfonts', r'\\usepackage{mathrsfs', r'\\usepackage{amssymb', r'\\usepackage{wasysym',\n",
    "        r'\\setlength{\\oddsidemargin}{-69pt',  r'\\usepackage{upgreek', r'\\documentclass[12pt]{minimal'\n",
    "    ]\n",
    "\n",
    "    if(delete_by_frequency):\n",
    "        #read words and frequency\n",
    "        words=pd.read_csv('word__count.csv')\n",
    "\n",
    "        for index, row in words.iterrows():\n",
    "            if(row['Frequency']<100 or row['Frequency']>5000): customize_stop_words.append(row['Word'])\n",
    "\n",
    "    return customize_stop_words"
   ]
  },
  {
   "cell_type": "code",
   "execution_count": null,
   "metadata": {},
   "outputs": [],
   "source": [
    "def train_lda(folder_path,delete_by_frequency):\n",
    "    if(not os.path.isdir(folder_path)):\n",
    "        os.mkdir(folder_path)\n",
    "\n",
    "    #New stop words list \n",
    "    customize_stop_words = create_customize_words(delete_by_frequency=delete_by_frequency)\n",
    "\n",
    "    # Mark them as stop words\n",
    "    for w in customize_stop_words:\n",
    "        if(not isinstance(w, float)): nlp.vocab[w].is_stop = True\n",
    "\n",
    "    #Convert a collection of text documents to a matrix of token counts\n",
    "    vectorizer = CountVectorizer(tokenizer = spacy_tokenizer, min_df=2)\n",
    "\n",
    "    #Learn the vocabulary dictionary and return document-term matrix.\n",
    "    #The astype(‘U’) is telling numpy to convert the data to Unicode (essentially a string in python 3)\n",
    "    data_vectorized = vectorizer.fit_transform(df['summary'].values.astype('U'))\n",
    "\n",
    "    #joblib.dump Persist an arbitrary Python object into one file.\n",
    "    joblib.dump(vectorizer, folder_path+'/vectorizer.csv')\n",
    "    joblib.dump(data_vectorized,folder_path+'/data_vectorized.csv')\n",
    "\n",
    "\n",
    "    lda = LatentDirichletAllocation(n_components=32, random_state=0)\n",
    "    lda.fit(data_vectorized)\n",
    "    joblib.dump(lda, folder_path+'/lda.csv')\n",
    "\n",
    "    print_top_words(lda, vectorizer, n_top_words=25)\n",
    "\n",
    "    #get topic distances\n",
    "    doc_topic_dist = pd.DataFrame(lda.transform(data_vectorized))\n",
    "    doc_topic_dist.to_csv(folder_path+'/doc_topic_dist.csv', index=False)"
   ]
  },
  {
   "cell_type": "code",
   "execution_count": null,
   "metadata": {},
   "outputs": [],
   "source": [
    "train_lda('baseline',False)"
   ]
  },
  {
   "cell_type": "code",
   "execution_count": null,
   "metadata": {},
   "outputs": [],
   "source": [
    "train_lda('delete_by_frequency',False)"
   ]
  }
 ]
}